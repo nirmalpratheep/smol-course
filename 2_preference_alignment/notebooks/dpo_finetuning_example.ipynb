{
  "cells": [
    {
      "cell_type": "markdown",
      "metadata": {
        "id": "SmR9xHkfoFf9"
      },
      "source": [
        "# Preference Alignment with Direct Preference Optimization (DPO)\n",
        "\n",
        "This notebook will guide you through the process of fine-tuning a language model using Direct Preference Optimization (DPO). We will use the SmolLM2-135M-Instruct model which has already been through a SFT training, so it it compatible with DPO. You can also use the model you trained in [1_instruction_tuning](../../1_instruction_tuning/notebooks/sft_finetuning_example.ipynb).\n",
        "\n",
        "<div style='background-color: lightblue; padding: 10px; border-radius: 5px; margin-bottom: 20px; color:black'>\n",
        "     <h2 style='margin: 0;color:blue'>Exercise: Aligning SmolLM2 with DPOTrainer</h2>\n",
        "     <p>Take a dataset from the Hugging Face hub and align a model on it. </p>\n",
        "     <p><b>Difficulty Levels</b></p>\n",
        "     <p>🐢 Use the `trl-lib/ultrafeedback_binarized` dataset</p>\n",
        "     <p>🐕 Try out the `argilla/ultrafeedback-binarized-preferences` dataset</p>\n",
        "     <p>🦁 Select a dataset that relates to a real-world use case you’re interested in, or use the model you trained in\n",
        "        <a href=\"../../1_instruction_tuning/notebooks/sft_finetuning_example.ipynb\">1_instruction_tuning</a></p>\n",
        "</div>"
      ]
    },
    {
      "cell_type": "code",
      "execution_count": null,
      "metadata": {
        "id": "o6Kgkdx_oFgA"
      },
      "outputs": [],
      "source": [
        "# Install the requirements in Google Colab\n",
        "!pip install transformers datasets trl huggingface_hub\n",
        "\n",
        "# Authenticate to Hugging Face\n",
        "\n",
        "from huggingface_hub import login\n",
        "\n",
        "login()\n",
        "\n",
        "# for convenience you can create an environment variable containing your hub token as HF_TOKEN"
      ]
    },
    {
      "cell_type": "markdown",
      "metadata": {
        "id": "4GZxaSP_oFgB"
      },
      "source": [
        "## Import libraries\n"
      ]
    },
    {
      "cell_type": "code",
      "execution_count": 3,
      "metadata": {
        "id": "_zIBL8IssExG"
      },
      "outputs": [],
      "source": [
        "import torch\n",
        "import os\n",
        "from transformers import AutoModelForCausalLM, AutoTokenizer\n",
        "from datasets import load_dataset\n",
        "from trl import DPOTrainer, DPOConfig"
      ]
    },
    {
      "cell_type": "markdown",
      "metadata": {
        "id": "d8CvUgROUDw-"
      },
      "source": [
        "## Format dataset"
      ]
    },
    {
      "cell_type": "code",
      "execution_count": null,
      "metadata": {
        "id": "MCD77GZ60DOT"
      },
      "outputs": [],
      "source": [
        "# Load dataset\n",
        "\n",
        "# TODO: 🦁🐕 change the dataset to one of your choosing\n",
        "dataset = load_dataset(path=\"trl-lib/ultrafeedback_binarized\", split=\"train\")"
      ]
    },
    {
      "cell_type": "code",
      "execution_count": 5,
      "metadata": {
        "colab": {
          "base_uri": "https://localhost:8080/"
        },
        "id": "QSbI6naEoFgC",
        "outputId": "56138d58-9a55-4322-d24a-85718da04f07"
      },
      "outputs": [
        {
          "output_type": "execute_result",
          "data": {
            "text/plain": [
              "Dataset({\n",
              "    features: ['chosen', 'rejected', 'score_chosen', 'score_rejected'],\n",
              "    num_rows: 62135\n",
              "})"
            ]
          },
          "metadata": {},
          "execution_count": 5
        }
      ],
      "source": [
        "dataset # TODO: 🐕 If your dataset is not represented as conversation lists, you can use the `process_dataset` function to convert it."
      ]
    },
    {
      "cell_type": "markdown",
      "metadata": {
        "id": "u3qu8E8xoFgD"
      },
      "source": [
        "## Select the model\n",
        "\n",
        "We will use the SmolLM2-135M-Instruct model which has already been through a SFT training, so it it compatible with DPO. You can also use the model you trained in [1_instruction_tuning](../../1_instruction_tuning/notebooks/sft_finetuning_example.ipynb).\n",
        "\n",
        "\n",
        "<div style='background-color: lightblue; padding: 10px; border-radius: 5px; margin-bottom: 20px; width:80%; color:black'>\n",
        "     <p>🦁 change the model to the path or repo id of the model you trained in <a href=\"../../1_instruction_tuning/notebooks/sft_finetuning_example.ipynb\">1_instruction_tuning</a></p>\n",
        "</div>\n"
      ]
    },
    {
      "cell_type": "code",
      "execution_count": null,
      "metadata": {
        "id": "6vAfDEs-oFgD"
      },
      "outputs": [],
      "source": [
        "# TODO: 🦁 change the model to the path or repo id of the model you trained in [1_instruction_tuning](../../1_instruction_tuning/notebooks/sft_finetuning_example.ipynb)\n",
        "\n",
        "model_name = \"HuggingFaceTB/SmolLM2-135M-Instruct\"\n",
        "\n",
        "device = (\n",
        "    \"cuda\"\n",
        "    if torch.cuda.is_available()\n",
        "    else \"mps\" if torch.backends.mps.is_available() else \"cpu\"\n",
        ")\n",
        "\n",
        "# Model to fine-tune\n",
        "model = AutoModelForCausalLM.from_pretrained(\n",
        "    pretrained_model_name_or_path=model_name,\n",
        "    torch_dtype=torch.float32,\n",
        ").to(device)\n",
        "model.config.use_cache = False\n",
        "tokenizer = AutoTokenizer.from_pretrained(model_name)\n",
        "tokenizer.pad_token = tokenizer.eos_token\n",
        "\n",
        "# Set our name for the finetune to be saved &/ uploaded to\n",
        "finetune_name = \"SmolLM2-FT-DPO\"\n",
        "finetune_tags = [\"smol-course\", \"module_1\"]"
      ]
    },
    {
      "cell_type": "markdown",
      "metadata": {
        "id": "DeT5eUK_UJgK"
      },
      "source": [
        "## Train model with DPO"
      ]
    },
    {
      "cell_type": "code",
      "execution_count": 12,
      "metadata": {
        "id": "rKPILNOLR-aK"
      },
      "outputs": [],
      "source": [
        "# Training arguments\n",
        "training_args = DPOConfig(\n",
        "    # Training batch size per GPU\n",
        "    per_device_train_batch_size=2,\n",
        "    # Number of updates steps to accumulate before performing a backward/update pass\n",
        "    # Effective batch size = per_device_train_batch_size * gradient_accumulation_steps\n",
        "    gradient_accumulation_steps=2,\n",
        "    # Saves memory by not storing activations during forward pass\n",
        "    # Instead recomputes them during backward pass\n",
        "    gradient_checkpointing=True,\n",
        "    # Base learning rate for training\n",
        "    learning_rate=5e-5,\n",
        "    # Learning rate schedule - 'cosine' gradually decreases LR following cosine curve\n",
        "    lr_scheduler_type=\"cosine\",\n",
        "    # Total number of training steps\n",
        "    max_steps=200,\n",
        "    # Disables model checkpointing during training\n",
        "    save_strategy=\"no\",\n",
        "    # How often to log training metrics\n",
        "    logging_steps=1,\n",
        "    # Directory to save model outputs\n",
        "    output_dir=\"smol_dpo_output\",\n",
        "    # Number of steps for learning rate warmup\n",
        "    warmup_steps=100,\n",
        "    # Use bfloat16 precision for faster training\n",
        "    bf16=True,\n",
        "    # Disable wandb/tensorboard logging\n",
        "    report_to=\"none\",\n",
        "    # Keep all columns in dataset even if not used\n",
        "    remove_unused_columns=False,\n",
        "    # Enable MPS (Metal Performance Shaders) for Mac devices\n",
        "    use_mps_device=device == \"mps\",\n",
        "    # Model ID for HuggingFace Hub uploads\n",
        "    hub_model_id=finetune_name,\n",
        "    # DPO-specific temperature parameter that controls the strength of the preference model\n",
        "    # Lower values (like 0.1) make the model more conservative in following preferences\n",
        "    beta=0.1,\n",
        "    # Maximum length of the input prompt in tokens\n",
        "    max_prompt_length=1024,\n",
        "    # Maximum combined length of prompt + response in tokens\n",
        "    max_length=1536,\n",
        ")"
      ]
    },
    {
      "cell_type": "code",
      "execution_count": 13,
      "metadata": {
        "id": "zAlJpBWdoFgE"
      },
      "outputs": [],
      "source": [
        "trainer = DPOTrainer(\n",
        "    # The model to be trained\n",
        "    model=model,\n",
        "    # Training configuration from above\n",
        "    args=training_args,\n",
        "    # Dataset containing preferred/rejected response pairs\n",
        "    train_dataset=dataset,\n",
        "    # Tokenizer for processing inputs\n",
        "    processing_class=tokenizer,\n",
        "    # DPO-specific temperature parameter that controls the strength of the preference model\n",
        "    # Lower values (like 0.1) make the model more conservative in following preferences\n",
        "    # beta=0.1,\n",
        "    # Maximum length of the input prompt in tokens\n",
        "    # max_prompt_length=1024,\n",
        "    # Maximum combined length of prompt + response in tokens\n",
        "    # max_length=1536,\n",
        ")"
      ]
    },
    {
      "cell_type": "code",
      "source": [
        "# Let's test the base model before training\n",
        "prompt = \"Write a haiku about programming\"\n",
        "\n",
        "# Format with template\n",
        "messages = [{\"role\": \"user\", \"content\": prompt}]\n",
        "formatted_prompt = tokenizer.apply_chat_template(messages, tokenize=False)\n",
        "\n",
        "# Generate response\n",
        "inputs = tokenizer(formatted_prompt, return_tensors=\"pt\").to(device)\n",
        "outputs = model.generate(**inputs, max_new_tokens=100)\n",
        "print(\"Before training:\")\n",
        "print(tokenizer.decode(outputs[0], skip_special_tokens=True))"
      ],
      "metadata": {
        "colab": {
          "base_uri": "https://localhost:8080/"
        },
        "id": "Hg0NX-SN60k3",
        "outputId": "a19a602f-a87d-4ee4-ccda-6d805d194ef1"
      },
      "execution_count": 10,
      "outputs": [
        {
          "output_type": "stream",
          "name": "stderr",
          "text": [
            "`use_cache=True` is incompatible with gradient checkpointing. Setting `use_cache=False`.\n",
            "/usr/local/lib/python3.11/dist-packages/torch/utils/checkpoint.py:87: UserWarning: None of the inputs have requires_grad=True. Gradients will be None\n",
            "  warnings.warn(\n"
          ]
        },
        {
          "output_type": "stream",
          "name": "stdout",
          "text": [
            "Before training:\n",
            "system\n",
            "You are a helpful AI assistant named SmolLM, trained by Hugging Face\n",
            "user\n",
            "Write a haiku about programming\n",
            "assistant\n",
            "In the depths of my programming mind,\n",
            "A tapestry of threads, woven with care,\n",
            "A symphony of logic, a symphony of code,\n",
            "A symphony of code, a symphony of code.\n"
          ]
        }
      ]
    },
    {
      "cell_type": "code",
      "execution_count": null,
      "metadata": {
        "id": "39iip1r7oFgE"
      },
      "outputs": [],
      "source": [
        "# Train the model\n",
        "trainer.train()\n",
        "\n",
        "# Save the model\n",
        "trainer.save_model(f\"./{finetune_name}\")\n",
        "\n",
        "# Save to the huggingface hub if login (HF_TOKEN is set)\n",
        "if os.getenv(\"HF_TOKEN\"):\n",
        "    trainer.push_to_hub(tags=finetune_tags)"
      ]
    },
    {
      "cell_type": "code",
      "source": [],
      "metadata": {
        "id": "GXPXHTBQ6CfB"
      },
      "execution_count": null,
      "outputs": []
    },
    {
      "cell_type": "code",
      "source": [
        "# Let's test the base model before training\n",
        "prompt = \"Write a haiku about programming\"\n",
        "\n",
        "# Format with template\n",
        "messages = [{\"role\": \"user\", \"content\": prompt}]\n",
        "formatted_prompt = tokenizer.apply_chat_template(messages, tokenize=False)\n",
        "\n",
        "# Generate response\n",
        "inputs = tokenizer(formatted_prompt, return_tensors=\"pt\").to(device)\n",
        "outputs = model.generate(**inputs, max_new_tokens=100)\n",
        "print(\"After training:\")\n",
        "print(tokenizer.decode(outputs[0], skip_special_tokens=True))"
      ],
      "metadata": {
        "colab": {
          "base_uri": "https://localhost:8080/"
        },
        "id": "1-Ju0SLG6Rf2",
        "outputId": "535a3c04-20ab-43ec-ce40-059301f38024"
      },
      "execution_count": 16,
      "outputs": [
        {
          "output_type": "stream",
          "name": "stdout",
          "text": [
            "After training:\n",
            "system\n",
            "You are a helpful AI assistant named SmolLM, trained by Hugging Face\n",
            "user\n",
            "Write a haiku about programming\n",
            "assistant\n",
            "In the depths of programming lies a silent symphony, where every line of code whispers secrets, a symphony of wonder and precision.\n",
            "\n",
            "The code, a labyrinth of lines, a maze of logic, yet, a symphony of harmony, a dance of purpose, a dance of fate.\n",
            "\n",
            "The code, a labyrinth of lines, a maze of logic, yet, a symphony of harmony, a dance of purpose, a dance of fate.\n",
            "\n",
            "The code, a labyrinth\n"
          ]
        }
      ]
    },
    {
      "cell_type": "markdown",
      "metadata": {
        "id": "rEbaJo84oFgE"
      },
      "source": [
        "## 💐 You're done!\n",
        "\n",
        "This notebook provided a step-by-step guide to fine-tuning the `HuggingFaceTB/SmolLM2-135M` model using the `DPOTrainer`. By following these steps, you can adapt the model to perform specific tasks more effectively. If you want to carry on working on this course, here are steps you could try out:\n",
        "\n",
        "- Try this notebook on a harder difficulty\n",
        "- Review a colleagues PR\n",
        "- Improve the course material via an Issue or PR."
      ]
    }
  ],
  "metadata": {
    "accelerator": "GPU",
    "colab": {
      "gpuType": "T4",
      "machine_shape": "hm",
      "provenance": []
    },
    "kernelspec": {
      "display_name": ".venv",
      "language": "python",
      "name": "python3"
    },
    "language_info": {
      "codemirror_mode": {
        "name": "ipython",
        "version": 3
      },
      "file_extension": ".py",
      "mimetype": "text/x-python",
      "name": "python",
      "nbconvert_exporter": "python",
      "pygments_lexer": "ipython3",
      "version": "3.11.10"
    }
  },
  "nbformat": 4,
  "nbformat_minor": 0
}